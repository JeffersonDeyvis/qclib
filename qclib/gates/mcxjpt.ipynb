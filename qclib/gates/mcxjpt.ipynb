{
 "cells": [
  {
   "cell_type": "code",
   "execution_count": 30,
   "metadata": {
    "collapsed": true,
    "ExecuteTime": {
     "end_time": "2023-05-08T17:50:32.157807400Z",
     "start_time": "2023-05-08T17:50:32.142163500Z"
    }
   },
   "outputs": [],
   "source": [
    "from qiskit import QuantumRegister, transpile\n",
    "from qclib.gates.mcx import McxVchainDirty, LinearMcx"
   ]
  },
  {
   "cell_type": "code",
   "execution_count": 32,
   "outputs": [],
   "source": [
    "for num_controls in range(10, 11):\n",
    "    num_ancilla = num_controls - 2\n",
    "    num_target_qubit = 2\n",
    "    control_qubits = QuantumRegister(num_controls)\n",
    "    ancilla_qubits = QuantumRegister(num_ancilla)\n",
    "    target_qubit = QuantumRegister(num_target_qubit)\n",
    "\n",
    "    mcx_v_chain = McxVchainDirty(num_controls).definition\n",
    "\n",
    "    #tr_mcx_v_chain = transpile(mcx_v_chain, basis_gates=['u', 'cx'])"
   ],
   "metadata": {
    "collapsed": false,
    "ExecuteTime": {
     "end_time": "2023-05-08T17:50:47.704314300Z",
     "start_time": "2023-05-08T17:50:47.688670200Z"
    }
   }
  },
  {
   "cell_type": "code",
   "execution_count": null,
   "outputs": [],
   "source": [],
   "metadata": {
    "collapsed": false
   }
  },
  {
   "cell_type": "code",
   "execution_count": 25,
   "outputs": [],
   "source": [],
   "metadata": {
    "collapsed": false,
    "ExecuteTime": {
     "end_time": "2023-05-08T17:45:40.014572600Z",
     "start_time": "2023-05-08T17:45:39.998972200Z"
    }
   }
  },
  {
   "cell_type": "code",
   "execution_count": null,
   "outputs": [],
   "source": [],
   "metadata": {
    "collapsed": false
   }
  }
 ],
 "metadata": {
  "kernelspec": {
   "display_name": "Python 3",
   "language": "python",
   "name": "python3"
  },
  "language_info": {
   "codemirror_mode": {
    "name": "ipython",
    "version": 2
   },
   "file_extension": ".py",
   "mimetype": "text/x-python",
   "name": "python",
   "nbconvert_exporter": "python",
   "pygments_lexer": "ipython2",
   "version": "2.7.6"
  }
 },
 "nbformat": 4,
 "nbformat_minor": 0
}
