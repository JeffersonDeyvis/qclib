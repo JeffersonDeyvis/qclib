{
 "cells": [
  {
   "cell_type": "markdown",
   "source": [
    "### Libraries"
   ],
   "metadata": {
    "collapsed": false
   },
   "id": "37173b324e8500a7"
  },
  {
   "cell_type": "code",
   "outputs": [],
   "source": [
    "from typing import Union\n",
    "import numpy as np\n",
    "from qclib.gates.mcu import MCU\n",
    "import qiskit\n",
    "from qiskit import (QuantumCircuit,\n",
    "                    QuantumRegister,\n",
    "                    ClassicalRegister,\n",
    "                    transpile)\n",
    "from qiskit.visualization import (plot_histogram,\n",
    "                                  circuit_drawer)\n",
    "from qiskit_aer import AerSimulator\n",
    "from qiskit_aer.noise import NoiseModel\n",
    "# from joblib import Parallel, delayed\n",
    "import matplotlib.pyplot as plt\n",
    "import time"
   ],
   "metadata": {
    "collapsed": false,
    "ExecuteTime": {
     "end_time": "2024-05-26T20:47:15.190809Z",
     "start_time": "2024-05-26T20:47:15.187808Z"
    }
   },
   "id": "9523e6a318c717d9",
   "execution_count": 49
  },
  {
   "cell_type": "code",
   "outputs": [],
   "source": [],
   "metadata": {
    "collapsed": false
   },
   "id": "508c5bb82803bd03"
  },
  {
   "cell_type": "code",
   "outputs": [],
   "source": [
    "class Utilities:\n",
    "\n",
    "    def __init__(self, operator, error):\n",
    "        self.operator = operator\n",
    "        self.error = error\n",
    "\n",
    "    @staticmethod\n",
    "    def pauli_matrices(string: str) -> Union[np.ndarray, None]:\n",
    "        string_case = string.lower()\n",
    "        match string_case:\n",
    "            case \"x\":\n",
    "                return np.array([\n",
    "                    [0, 1],\n",
    "                    [1, 0]\n",
    "                ])\n",
    "            case \"y\":\n",
    "                return np.array([\n",
    "                    [0, -1j],\n",
    "                    [1j, 0]\n",
    "                ])\n",
    "            case \"z\":\n",
    "                return np.array([\n",
    "                    [1, 0],\n",
    "                    [0, -1]\n",
    "                ])\n",
    "            case _:\n",
    "                return None\n",
    "\n",
    "    @staticmethod\n",
    "    def transpose_conjugate(operator):\n",
    "        return np.conjugate(np.transpose(operator))\n",
    "\n",
    "    @staticmethod\n",
    "    def pyramid_size(operator, error):\n",
    "        mcu_dummy = MCU(operator, num_controls=100, error=error)\n",
    "        # will be changed by mcu_dummy._get_n_base(x_dagger, error)\n",
    "        return mcu_dummy._get_num_base_ctrl_qubits(operator, error)\n"
   ],
   "metadata": {
    "collapsed": false,
    "ExecuteTime": {
     "end_time": "2024-05-26T20:22:43.875821Z",
     "start_time": "2024-05-26T20:22:43.871211Z"
    }
   },
   "id": "4682e7f19fb94c52",
   "execution_count": 3
  },
  {
   "cell_type": "code",
   "outputs": [],
   "source": [
    "def built_circuit(pauli_string='x', error=0.1, approximated = True):\n",
    "    \n",
    "    pauli_matrix = Utilities.pauli_matrices(pauli_string)\n",
    "    pauli_matrix_dagger = Utilities.transpose_conjugate(pauli_matrix)\n",
    "    n_base = Utilities.pyramid_size(pauli_matrix_dagger, error)\n",
    "\n",
    "    controls = QuantumRegister(n_base, 'controls')\n",
    "    target = QuantumRegister(1, 'target')\n",
    "    classical = ClassicalRegister(1, \"classic\")\n",
    "\n",
    "    circ = QuantumCircuit(controls, target, classical)\n",
    "    for i in range(len(controls)):\n",
    "        circ.x(i)\n",
    "    circ.x(target)\n",
    "    if approximated:\n",
    "      MCU.mcu(circ, pauli_matrix_dagger, controls, target, error)\n",
    "    else:\n",
    "      MCU.mcu(circ, pauli_matrix_dagger, controls, target, 0)\n",
    "    # circ.measure(target, [0])\n",
    "    circ.measure_all()\n",
    "    return circ"
   ],
   "metadata": {
    "collapsed": false,
    "ExecuteTime": {
     "end_time": "2024-05-26T20:38:21.134157Z",
     "start_time": "2024-05-26T20:38:21.130665Z"
    }
   },
   "id": "9a49dbad83ff304a",
   "execution_count": 38
  },
  {
   "cell_type": "code",
   "outputs": [
    {
     "name": "stdout",
     "output_type": "stream",
     "text": [
      "            ┌───┐┌────────────┐ ░ ┌─┐                  \n",
      "controls_0: ┤ X ├┤0           ├─░─┤M├──────────────────\n",
      "            ├───┤│            │ ░ └╥┘┌─┐               \n",
      "controls_1: ┤ X ├┤1           ├─░──╫─┤M├───────────────\n",
      "            ├───┤│            │ ░  ║ └╥┘┌─┐            \n",
      "controls_2: ┤ X ├┤2           ├─░──╫──╫─┤M├────────────\n",
      "            ├───┤│            │ ░  ║  ║ └╥┘┌─┐         \n",
      "controls_3: ┤ X ├┤3 Mcuapprox ├─░──╫──╫──╫─┤M├─────────\n",
      "            ├───┤│            │ ░  ║  ║  ║ └╥┘┌─┐      \n",
      "controls_4: ┤ X ├┤4           ├─░──╫──╫──╫──╫─┤M├──────\n",
      "            ├───┤│            │ ░  ║  ║  ║  ║ └╥┘┌─┐   \n",
      "controls_5: ┤ X ├┤5           ├─░──╫──╫──╫──╫──╫─┤M├───\n",
      "            ├───┤│            │ ░  ║  ║  ║  ║  ║ └╥┘┌─┐\n",
      "    target: ┤ X ├┤6           ├─░──╫──╫──╫──╫──╫──╫─┤M├\n",
      "            └───┘└────────────┘ ░  ║  ║  ║  ║  ║  ║ └╥┘\n",
      " classic: 1/═══════════════════════╬══╬══╬══╬══╬══╬══╬═\n",
      "                                   ║  ║  ║  ║  ║  ║  ║ \n",
      "    meas: 7/═══════════════════════╩══╩══╩══╩══╩══╩══╩═\n",
      "                                   0  1  2  3  4  5  6 \n"
     ]
    }
   ],
   "source": [
    "approx_circuit = built_circuit('x', 0.1)\n",
    "print(approx_circuit)"
   ],
   "metadata": {
    "collapsed": false,
    "ExecuteTime": {
     "end_time": "2024-05-26T20:38:53.385168Z",
     "start_time": "2024-05-26T20:38:53.378517Z"
    }
   },
   "id": "7803f0d6c89dc9d0",
   "execution_count": 41
  },
  {
   "cell_type": "code",
   "outputs": [
    {
     "name": "stdout",
     "output_type": "stream",
     "text": [
      "            ┌───┐┌────────┐ ░ ┌─┐                  \n",
      "controls_0: ┤ X ├┤0       ├─░─┤M├──────────────────\n",
      "            ├───┤│        │ ░ └╥┘┌─┐               \n",
      "controls_1: ┤ X ├┤1       ├─░──╫─┤M├───────────────\n",
      "            ├───┤│        │ ░  ║ └╥┘┌─┐            \n",
      "controls_2: ┤ X ├┤2       ├─░──╫──╫─┤M├────────────\n",
      "            ├───┤│        │ ░  ║  ║ └╥┘┌─┐         \n",
      "controls_3: ┤ X ├┤3 Ldmcu ├─░──╫──╫──╫─┤M├─────────\n",
      "            ├───┤│        │ ░  ║  ║  ║ └╥┘┌─┐      \n",
      "controls_4: ┤ X ├┤4       ├─░──╫──╫──╫──╫─┤M├──────\n",
      "            ├───┤│        │ ░  ║  ║  ║  ║ └╥┘┌─┐   \n",
      "controls_5: ┤ X ├┤5       ├─░──╫──╫──╫──╫──╫─┤M├───\n",
      "            ├───┤│        │ ░  ║  ║  ║  ║  ║ └╥┘┌─┐\n",
      "    target: ┤ X ├┤6       ├─░──╫──╫──╫──╫──╫──╫─┤M├\n",
      "            └───┘└────────┘ ░  ║  ║  ║  ║  ║  ║ └╥┘\n",
      " classic: 1/═══════════════════╬══╬══╬══╬══╬══╬══╬═\n",
      "                               ║  ║  ║  ║  ║  ║  ║ \n",
      "    meas: 7/═══════════════════╩══╩══╩══╩══╩══╩══╩═\n",
      "                               0  1  2  3  4  5  6 \n"
     ]
    }
   ],
   "source": [
    "real_circuit = built_circuit('x', 0.1, False)\n",
    "print(real_circuit)"
   ],
   "metadata": {
    "collapsed": false,
    "ExecuteTime": {
     "end_time": "2024-05-26T20:38:54.109565Z",
     "start_time": "2024-05-26T20:38:54.103971Z"
    }
   },
   "id": "56fa634efffb4822",
   "execution_count": 42
  },
  {
   "cell_type": "code",
   "outputs": [],
   "source": [
    "from qiskit import QuantumCircuit, transpile\n",
    "from qiskit.providers.fake_provider import GenericBackendV2\n",
    "from qiskit.visualization import plot_histogram"
   ],
   "metadata": {
    "collapsed": false,
    "ExecuteTime": {
     "end_time": "2024-05-26T20:51:11.653227Z",
     "start_time": "2024-05-26T20:51:11.650222Z"
    }
   },
   "id": "3af7997ec9c26b3",
   "execution_count": 52
  },
  {
   "cell_type": "code",
   "outputs": [],
   "source": [
    "def hist(circuit):\n",
    "    size = len(circuit)\n",
    "    # Generate a 5-qubit simulated backend\n",
    "    backend = GenericBackendV2(num_qubits=size)\n",
    "    \n",
    "    # Transpile the ideal circuit to a circuit that can be directly executed by the backend\n",
    "    transpiled_circuit = transpile(circuit, backend)\n",
    "    transpiled_circuit.save_statevector()\n",
    "    # Run the transpiled circuit using the simulated backend\n",
    "    job = backend.run(transpiled_circuit)\n",
    "    result = job.result()\n",
    "    output_state = np.real(result.get_statevector(transpiled_circuit, decimals=100))\n",
    "    return output_state"
   ],
   "metadata": {
    "collapsed": false,
    "ExecuteTime": {
     "end_time": "2024-05-26T20:57:11.822477Z",
     "start_time": "2024-05-26T20:57:11.818791Z"
    }
   },
   "id": "2881dc2862bbb658",
   "execution_count": 61
  },
  {
   "cell_type": "code",
   "outputs": [],
   "source": [
    "rc_state_vector = hist(real_circuit)\n",
    "ac_state_vector = hist(approx_circuit)"
   ],
   "metadata": {
    "collapsed": false,
    "ExecuteTime": {
     "end_time": "2024-05-26T20:58:52.620039Z",
     "start_time": "2024-05-26T20:58:32.770557Z"
    }
   },
   "id": "1199874cd0076480",
   "execution_count": 63
  },
  {
   "cell_type": "markdown",
   "source": [
    "### Adicionar medida de fidelidade."
   ],
   "metadata": {
    "collapsed": false
   },
   "id": "376d4b6451c4bc74"
  },
  {
   "cell_type": "code",
   "outputs": [],
   "source": [],
   "metadata": {
    "collapsed": false
   },
   "id": "154a21a535e98826"
  }
 ],
 "metadata": {
  "kernelspec": {
   "display_name": "Python 3",
   "language": "python",
   "name": "python3"
  },
  "language_info": {
   "codemirror_mode": {
    "name": "ipython",
    "version": 2
   },
   "file_extension": ".py",
   "mimetype": "text/x-python",
   "name": "python",
   "nbconvert_exporter": "python",
   "pygments_lexer": "ipython2",
   "version": "2.7.6"
  }
 },
 "nbformat": 4,
 "nbformat_minor": 5
}
