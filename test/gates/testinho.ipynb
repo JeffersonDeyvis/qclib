{
 "cells": [
  {
   "cell_type": "code",
   "execution_count": 7,
   "outputs": [],
   "source": [
    "import numpy as np\n",
    "from qclib.gates.ldmcu import Ldmcu\n",
    "from qclib.gates.ldmcu_approx import LdmcuApprox\n",
    "from qiskit import QuantumRegister, QuantumCircuit, transpile\n",
    "from qiskit.quantum_info import Operator\n",
    "import matplotlib.pyplot as plt\n",
    "from qclib.util import get_cnot_count"
   ],
   "metadata": {
    "colab": {
     "base_uri": "https://localhost:8080/",
     "height": 373
    },
    "id": "StKfJyQbfKJm",
    "executionInfo": {
     "status": "error",
     "timestamp": 1689171900594,
     "user_tz": 180,
     "elapsed": 303,
     "user": {
      "displayName": "Jefferson Deyvis dos Santos Silva",
      "userId": "01189387333934811966"
     }
    },
    "outputId": "4c55e330-0618-431d-fba7-dcb36faf99d2",
    "ExecuteTime": {
     "end_time": "2023-07-31T21:31:08.460759Z",
     "start_time": "2023-07-31T21:31:07.128835400Z"
    }
   }
  },
  {
   "cell_type": "code",
   "execution_count": 2,
   "outputs": [
    {
     "name": "stdout",
     "output_type": "stream",
     "text": [
      "Com error = 0.000100, o circuito terá 15 controles\n"
     ]
    }
   ],
   "source": [
    "unitary = np.array([[0,1], [1,0]])\n",
    "error = 1*10**(-4)\n",
    "\n",
    "ldmcu_approx_test = LdmcuApprox(unitary, num_controls=100, error=error)\n",
    "base_ctrl_qubits = ldmcu_approx_test._get_num_base_ctrl_qubits(unitary, error)\n",
    "\n",
    "num_control = 10\n",
    "\n",
    "controls_base = QuantumRegister(num_control)\n",
    "target = QuantumRegister(1)\n",
    "\n",
    "print('Com error = %.6f, o circuito terá %d controles' %(error, base_ctrl_qubits))"
   ],
   "metadata": {
    "id": "Rwq-WKovfKJm",
    "outputId": "4a92d372-2a3c-4785-a50b-b7b570e76133",
    "ExecuteTime": {
     "end_time": "2023-07-26T15:41:01.215209700Z",
     "start_time": "2023-07-26T15:41:01.202730500Z"
    }
   }
  },
  {
   "cell_type": "markdown",
   "source": [],
   "metadata": {
    "collapsed": false
   }
  },
  {
   "cell_type": "markdown",
   "source": [
    "## Circuito real"
   ],
   "metadata": {
    "collapsed": false
   }
  },
  {
   "cell_type": "code",
   "execution_count": 3,
   "outputs": [],
   "source": [
    "control_real = QuantumRegister(10)\n",
    "circuit_1 = QuantumCircuit(control_real, target)\n",
    "Ldmcu.ldmcu(circuit_1, unitary, control_real, target)"
   ],
   "metadata": {
    "id": "KbxBSyDVfKJn",
    "ExecuteTime": {
     "end_time": "2023-07-16T23:23:05.804413500Z",
     "start_time": "2023-07-16T23:23:05.791234900Z"
    }
   }
  },
  {
   "cell_type": "code",
   "execution_count": 4,
   "outputs": [],
   "source": [
    "# numero de controles fixado"
   ],
   "metadata": {
    "collapsed": false,
    "ExecuteTime": {
     "end_time": "2023-07-16T23:23:06.687204Z",
     "start_time": "2023-07-16T23:23:06.672613700Z"
    }
   }
  },
  {
   "cell_type": "code",
   "execution_count": 5,
   "outputs": [],
   "source": [
    "matrix_circ_1 = Operator(circuit_1).data"
   ],
   "metadata": {
    "id": "R7FY-QKXfKJn",
    "ExecuteTime": {
     "end_time": "2023-07-16T23:23:18.211368500Z",
     "start_time": "2023-07-16T23:23:07.201163100Z"
    }
   }
  },
  {
   "cell_type": "code",
   "execution_count": 6,
   "outputs": [
    {
     "data": {
      "text/plain": "array([[ 1.00000000e+00+0.00000000e+00j,  0.00000000e+00+0.00000000e+00j,\n         0.00000000e+00+0.00000000e+00j, ...,\n         0.00000000e+00+0.00000000e+00j,  0.00000000e+00+0.00000000e+00j,\n         0.00000000e+00+0.00000000e+00j],\n       [ 0.00000000e+00+0.00000000e+00j,  1.00000000e+00-5.68555619e-16j,\n         0.00000000e+00+0.00000000e+00j, ...,\n         7.59955684e-34+2.35761473e-35j,  0.00000000e+00+0.00000000e+00j,\n         1.19594414e-19-3.66912218e-22j],\n       [ 0.00000000e+00+0.00000000e+00j,  0.00000000e+00+0.00000000e+00j,\n         1.00000000e+00-5.68555619e-16j, ...,\n         0.00000000e+00+0.00000000e+00j,  0.00000000e+00+0.00000000e+00j,\n         0.00000000e+00+0.00000000e+00j],\n       ...,\n       [ 0.00000000e+00+0.00000000e+00j, -7.59609145e-34-3.29001974e-35j,\n         0.00000000e+00+0.00000000e+00j, ...,\n         1.00000000e+00-2.49800181e-15j,  0.00000000e+00+0.00000000e+00j,\n        -1.19594414e-19+3.89815960e-17j],\n       [ 0.00000000e+00+0.00000000e+00j,  0.00000000e+00+0.00000000e+00j,\n         0.00000000e+00+0.00000000e+00j, ...,\n         0.00000000e+00+0.00000000e+00j,  1.00000000e+00-2.49800181e-15j,\n         0.00000000e+00+0.00000000e+00j],\n       [ 0.00000000e+00+0.00000000e+00j,  1.19594414e-19+3.66912218e-22j,\n         0.00000000e+00+0.00000000e+00j, ...,\n        -1.19594414e-19-3.89815960e-17j,  0.00000000e+00+0.00000000e+00j,\n        -1.26851973e-17-4.36355285e-17j]])"
     },
     "execution_count": 6,
     "metadata": {},
     "output_type": "execute_result"
    }
   ],
   "source": [
    "matrix_circ_1"
   ],
   "metadata": {
    "id": "D6Kvb1MofKJn",
    "outputId": "88fba695-d108-4cec-968a-8cd136c48b84",
    "ExecuteTime": {
     "end_time": "2023-07-16T23:23:18.227899900Z",
     "start_time": "2023-07-16T23:23:18.212729700Z"
    }
   }
  },
  {
   "cell_type": "markdown",
   "source": [
    "## Circuito approx"
   ],
   "metadata": {
    "collapsed": false
   }
  },
  {
   "cell_type": "code",
   "execution_count": 7,
   "outputs": [
    {
     "ename": "Exception",
     "evalue": "The number of control qubits is too low",
     "output_type": "error",
     "traceback": [
      "\u001B[1;31m---------------------------------------------------------------------------\u001B[0m",
      "\u001B[1;31mException\u001B[0m                                 Traceback (most recent call last)",
      "Cell \u001B[1;32mIn[7], line 2\u001B[0m\n\u001B[0;32m      1\u001B[0m circuit_2 \u001B[38;5;241m=\u001B[39m QuantumCircuit(controls_base, target)\n\u001B[1;32m----> 2\u001B[0m \u001B[43mLdmcuApprox\u001B[49m\u001B[38;5;241;43m.\u001B[39;49m\u001B[43mldmcu_approx\u001B[49m\u001B[43m(\u001B[49m\u001B[43mcircuit_2\u001B[49m\u001B[43m,\u001B[49m\u001B[43m \u001B[49m\u001B[43munitary\u001B[49m\u001B[43m,\u001B[49m\u001B[43m \u001B[49m\u001B[43mcontrols_base\u001B[49m\u001B[43m,\u001B[49m\u001B[43m \u001B[49m\u001B[43mtarget\u001B[49m\u001B[43m,\u001B[49m\u001B[43m \u001B[49m\u001B[43merror\u001B[49m\u001B[43m)\u001B[49m\n",
      "File \u001B[1;32m~\\OneDrive - UFPE\\Documentos\\GitHub\\qclib\\qclib\\gates\\ldmcu_approx.py:199\u001B[0m, in \u001B[0;36mLdmcuApprox.ldmcu_approx\u001B[1;34m(circuit, unitary, controls, target, error, ctrl_state)\u001B[0m\n\u001B[0;32m    193\u001B[0m \u001B[38;5;129m@staticmethod\u001B[39m\n\u001B[0;32m    194\u001B[0m \u001B[38;5;28;01mdef\u001B[39;00m \u001B[38;5;21mldmcu_approx\u001B[39m(circuit, unitary, controls, target, error, ctrl_state\u001B[38;5;241m=\u001B[39m\u001B[38;5;28;01mNone\u001B[39;00m):\n\u001B[0;32m    195\u001B[0m \u001B[38;5;250m    \u001B[39m\u001B[38;5;124;03m'''\u001B[39;00m\n\u001B[0;32m    196\u001B[0m \u001B[38;5;124;03m    Append LdmcuApprox to the circuit\u001B[39;00m\n\u001B[0;32m    197\u001B[0m \u001B[38;5;124;03m    '''\u001B[39;00m\n\u001B[0;32m    198\u001B[0m     circuit\u001B[38;5;241m.\u001B[39mappend(\n\u001B[1;32m--> 199\u001B[0m         \u001B[43mLdmcuApprox\u001B[49m\u001B[43m(\u001B[49m\u001B[43munitary\u001B[49m\u001B[43m,\u001B[49m\u001B[43m \u001B[49m\u001B[38;5;28;43mlen\u001B[39;49m\u001B[43m(\u001B[49m\u001B[43mcontrols\u001B[49m\u001B[43m)\u001B[49m\u001B[43m,\u001B[49m\u001B[43m \u001B[49m\u001B[43merror\u001B[49m\u001B[43m,\u001B[49m\u001B[43m \u001B[49m\u001B[43mctrl_state\u001B[49m\u001B[38;5;241;43m=\u001B[39;49m\u001B[43mctrl_state\u001B[49m\u001B[43m)\u001B[49m,\n\u001B[0;32m    200\u001B[0m         [\u001B[38;5;241m*\u001B[39mcontrols, target]\n\u001B[0;32m    201\u001B[0m     )\n",
      "File \u001B[1;32m~\\OneDrive - UFPE\\Documentos\\GitHub\\qclib\\qclib\\gates\\ldmcu_approx.py:60\u001B[0m, in \u001B[0;36mLdmcuApprox.__init__\u001B[1;34m(self, unitary, num_controls, error, ctrl_state)\u001B[0m\n\u001B[0;32m     58\u001B[0m     \u001B[38;5;28;01mraise\u001B[39;00m \u001B[38;5;167;01mException\u001B[39;00m(\u001B[38;5;124m\"\u001B[39m\u001B[38;5;124mThe number of base qubits is 0\u001B[39m\u001B[38;5;124m\"\u001B[39m)\n\u001B[0;32m     59\u001B[0m \u001B[38;5;28;01mif\u001B[39;00m \u001B[38;5;28mself\u001B[39m\u001B[38;5;241m.\u001B[39mn_ctrl_base \u001B[38;5;241m>\u001B[39m num_controls:\n\u001B[1;32m---> 60\u001B[0m     \u001B[38;5;28;01mraise\u001B[39;00m \u001B[38;5;167;01mException\u001B[39;00m(\u001B[38;5;124m\"\u001B[39m\u001B[38;5;124mThe number of control qubits is too low\u001B[39m\u001B[38;5;124m\"\u001B[39m)\n\u001B[0;32m     62\u001B[0m \u001B[38;5;28mself\u001B[39m\u001B[38;5;241m.\u001B[39mctrl_state \u001B[38;5;241m=\u001B[39m ctrl_state\n\u001B[0;32m     64\u001B[0m \u001B[38;5;28msuper\u001B[39m()\u001B[38;5;241m.\u001B[39m\u001B[38;5;21m__init__\u001B[39m(\u001B[38;5;124m\"\u001B[39m\u001B[38;5;124mLdmcuApprox\u001B[39m\u001B[38;5;124m\"\u001B[39m, \u001B[38;5;28mself\u001B[39m\u001B[38;5;241m.\u001B[39mnum_qubits, [], \u001B[38;5;124m\"\u001B[39m\u001B[38;5;124mLdmcuApprox\u001B[39m\u001B[38;5;124m\"\u001B[39m)\n",
      "\u001B[1;31mException\u001B[0m: The number of control qubits is too low"
     ]
    }
   ],
   "source": [
    "circuit_2 = QuantumCircuit(controls_base, target)\n",
    "LdmcuApprox.ldmcu_approx(circuit_2, unitary, controls_base, target, error)"
   ],
   "metadata": {
    "id": "lCq7LOMxfKJo",
    "ExecuteTime": {
     "end_time": "2023-07-16T23:23:18.678057600Z",
     "start_time": "2023-07-16T23:23:18.227899900Z"
    }
   }
  },
  {
   "cell_type": "code",
   "execution_count": null,
   "outputs": [],
   "source": [
    "matrix_circ_2 = Operator(circuit_2).data"
   ],
   "metadata": {
    "id": "mQ1lq29NfKJo"
   }
  },
  {
   "cell_type": "code",
   "execution_count": null,
   "outputs": [],
   "source": [
    "matrix_circ_2"
   ],
   "metadata": {
    "id": "1f3XkKUbfKJo",
    "outputId": "c7a4a88c-35e2-4f67-a1bf-8324ef10728a"
   }
  },
  {
   "cell_type": "markdown",
   "source": [
    "$$a_{tol} = \\parallel a - b \\parallel - \\, r_{tol} * \\parallel b \\parallel$$"
   ],
   "metadata": {
    "collapsed": false,
    "id": "xJguAKZOfKJp"
   }
  },
  {
   "cell_type": "code",
   "execution_count": null,
   "outputs": [],
   "source": [
    "np.allclose(matrix_circ_1, matrix_circ_2, atol=0.1)"
   ],
   "metadata": {
    "id": "B_Lh44hpfKJp",
    "outputId": "bfce7705-f880-4a4b-9f8f-29384a0410a7"
   }
  },
  {
   "cell_type": "code",
   "execution_count": null,
   "outputs": [],
   "source": [
    "ldmcut = transpile(circuit_1, basis_gates=['u', 'cx'])\n",
    "ldmcu_approxt = transpile(circuit_2, basis_gates=['u', 'cx'])\n",
    "\n",
    "ldmcu_ops = ldmcut.count_ops()\n",
    "ldmcu_approx_ops = ldmcu_approxt.count_ops()"
   ],
   "metadata": {
    "id": "dOkOd2w7fKJq",
    "outputId": "5cea02c7-6e2d-47f4-cb65-a355192cabbe"
   }
  },
  {
   "cell_type": "code",
   "execution_count": null,
   "outputs": [],
   "source": [
    "print(ldmcu_ops['cx'])"
   ],
   "metadata": {
    "id": "7tt-1i-HfKJq"
   }
  },
  {
   "cell_type": "code",
   "execution_count": null,
   "outputs": [],
   "source": [
    "print(ldmcu_approx_ops['cx'])"
   ],
   "metadata": {
    "collapsed": false
   }
  },
  {
   "cell_type": "markdown",
   "source": [
    "## Gráfico ldmcu vs Lmdcu_approx"
   ],
   "metadata": {
    "collapsed": false
   }
  },
  {
   "cell_type": "code",
   "execution_count": 19,
   "outputs": [],
   "source": [
    "def circuits(unitary, error, base_ctrl_q, max_contrl_q):\n",
    "\n",
    "    target = QuantumRegister(1)\n",
    "    real_circuit = []\n",
    "    approx_circuit = []\n",
    "    n_controls_approx = []\n",
    "    for size in range(base_ctrl_q, max_contrl_q):\n",
    "        controls_base = QuantumRegister(size)\n",
    "\n",
    "        # faz append do numero de Cnots do circuito real.\n",
    "        circuit_1 = QuantumCircuit(controls_base, target)\n",
    "        Ldmcu.ldmcu(circuit_1, unitary, controls_base, target)\n",
    "        ldmcut = transpile(circuit_1, basis_gates=['u', 'cx'])\n",
    "        ldmcu_ops = ldmcut.count_ops()\n",
    "        n_cnot_real = ldmcu_ops['cx']\n",
    "        real_circuit.append(n_cnot_real)\n",
    "\n",
    "        # faz append do numero de Cnots circuito aproximado.\n",
    "        circuit_2 = QuantumCircuit(controls_base, target)\n",
    "        LdmcuApprox.ldmcu_approx(circuit_2, unitary, controls_base, target, error)\n",
    "        ldmcu_approxt = transpile(circuit_2, basis_gates=['u', 'cx'])\n",
    "        ldmcu_approx_ops = ldmcu_approxt.count_ops()\n",
    "        n_cnot_approx = ldmcu_approx_ops['cx']\n",
    "        if True: #n_cnot_approx <= n_cnot_real:\n",
    "            approx_circuit.append(ldmcu_approx_ops['cx'])\n",
    "            #n_controls_approx.append(size)\n",
    "\n",
    "    return real_circuit, approx_circuit #, n_controls_approx"
   ],
   "metadata": {
    "collapsed": false,
    "ExecuteTime": {
     "end_time": "2023-07-26T15:54:46.637148600Z",
     "start_time": "2023-07-26T15:54:46.621091500Z"
    }
   }
  },
  {
   "cell_type": "code",
   "execution_count": 20,
   "outputs": [],
   "source": [
    "unitary = np.array([[0,1], [1,0]])\n",
    "error = 10e-4\n",
    "#ldmcu_approx_test = LdmcuApprox(unitary, num_controls=100, error=error)\n",
    "base_ctrl_qubits = ldmcu_approx_test._get_num_base_ctrl_qubits(unitary, error)"
   ],
   "metadata": {
    "collapsed": false,
    "ExecuteTime": {
     "end_time": "2023-07-26T15:54:47.090649300Z",
     "start_time": "2023-07-26T15:54:47.084632900Z"
    }
   }
  },
  {
   "cell_type": "code",
   "execution_count": 21,
   "outputs": [],
   "source": [
    "base_ctrl_q = base_ctrl_qubits\n",
    "max_contrl_q = base_ctrl_qubits + 40\n",
    "control_qubits = np.arange(base_ctrl_q, max_contrl_q)"
   ],
   "metadata": {
    "collapsed": false,
    "ExecuteTime": {
     "end_time": "2023-07-26T15:54:48.733705100Z",
     "start_time": "2023-07-26T15:54:48.727673500Z"
    }
   }
  },
  {
   "cell_type": "code",
   "execution_count": 22,
   "outputs": [],
   "source": [
    "cir_real_cnots, cir_approx_cnots = circuits(unitary, error, base_ctrl_q, max_contrl_q)"
   ],
   "metadata": {
    "collapsed": false,
    "ExecuteTime": {
     "end_time": "2023-07-26T15:56:23.714920300Z",
     "start_time": "2023-07-26T15:54:54.334806500Z"
    }
   }
  },
  {
   "cell_type": "code",
   "execution_count": 25,
   "outputs": [
    {
     "data": {
      "text/plain": "<Figure size 640x480 with 1 Axes>",
      "image/png": "[encoded data removed]"
     },
     "metadata": {},
     "output_type": "display_data"
    }
   ],
   "source": [
    "plt.plot(\n",
    "    control_qubits, cir_real_cnots, 'b',\n",
    "    control_qubits, cir_approx_cnots, 'darkorange'\n",
    ")\n",
    "\n",
    "plt.legend(\n",
    "    ('Ldmcu method', 'Ldmcu approximated method'),\n",
    "    loc='upper left', shadow=False\n",
    ")\n",
    "#plt.grid(True)\n",
    "plt.title('Ldmcu x Ldmcu Approximated')\n",
    "plt.xlabel('Number of Control Qubits')\n",
    "plt.ylabel('Number of CNOTs')\n",
    "plt.savefig(\"ldmcu_approx.svg\", dpi=600)\n",
    "plt.show()"
   ],
   "metadata": {
    "collapsed": false,
    "ExecuteTime": {
     "end_time": "2023-07-26T16:32:30.158018400Z",
     "start_time": "2023-07-26T16:32:29.997732200Z"
    }
   }
  },
  {
   "cell_type": "code",
   "execution_count": null,
   "outputs": [],
   "source": [
    "def test_mcx_comute(self):\n",
    "\n",
    "    qiskit_circuit1 = QuantumCircuit(8)\n",
    "    qiskit_circuit2 = QuantumCircuit(8)\n",
    "    controls_idx = list(np.arange(4))\n",
    "    qiskit_circuit1.mcx(controls_idx, [6])\n",
    "    qiskit_circuit2.mcx(controls_idx, [7])\n",
    "\n",
    "    qiskit_mcx_op1 = Operator(qiskit_circuit1).data\n",
    "    qiskit_mcx_op2 = Operator(qiskit_circuit2).data\n",
    "\n",
    "    a = qiskit_mcx_op1 @ qiskit_mcx_op2\n",
    "    b = qiskit_mcx_op2 @ qiskit_mcx_op1\n",
    "    self.assertTrue(\n",
    "        np.allclose(a, b)\n",
    "    )"
   ],
   "metadata": {
    "collapsed": false
   }
  },
  {
   "cell_type": "markdown",
   "source": [
    "## Comparação mxc"
   ],
   "metadata": {
    "collapsed": false
   }
  },
  {
   "cell_type": "code",
   "execution_count": 69,
   "outputs": [
    {
     "name": "stdout",
     "output_type": "stream",
     "text": [
      "12\n"
     ]
    }
   ],
   "source": [
    "u = np.array([[0,1], [1,0]])\n",
    "error=1e-3\n",
    "ldmcu_approx_dummy = LdmcuApprox(u, num_controls=100, error=error)\n",
    "base_ctrl_qubits_mcx = ldmcu_approx_dummy._get_num_base_ctrl_qubits(u,error)\n",
    "print(base_ctrl_qubits_mcx)"
   ],
   "metadata": {
    "collapsed": false,
    "ExecuteTime": {
     "end_time": "2023-07-31T22:12:38.873868100Z",
     "start_time": "2023-07-31T22:12:38.866780300Z"
    }
   }
  },
  {
   "cell_type": "code",
   "execution_count": 70,
   "outputs": [],
   "source": [
    "cnot_approx=[]\n",
    "cnot_original = []\n",
    "base_limit = base_ctrl_qubits_mcx+25\n",
    "for n_controls in range(base_ctrl_qubits_mcx, base_limit):\n",
    "\n",
    "    controls = QuantumRegister(n_controls)\n",
    "    target = QuantumRegister(1)\n",
    "    circuit_approx = QuantumCircuit(controls, target)\n",
    "    LdmcuApprox.ldmcu_approx(circuit_approx, u, controls, target, error)\n",
    "\n",
    "    cnot_approx.append(get_cnot_count(circ=circuit_approx))\n",
    "    circuit_og = QuantumCircuit(controls, target)\n",
    "    Ldmcu.ldmcu(circuit_og, u, controls, target)\n",
    "    cnot_original.append(get_cnot_count(circ=circuit_og))"
   ],
   "metadata": {
    "collapsed": false,
    "ExecuteTime": {
     "end_time": "2023-07-31T22:13:11.095652100Z",
     "start_time": "2023-07-31T22:12:39.828504100Z"
    }
   }
  },
  {
   "cell_type": "code",
   "execution_count": 71,
   "outputs": [
    {
     "data": {
      "text/plain": "2196"
     },
     "execution_count": 71,
     "metadata": {},
     "output_type": "execute_result"
    }
   ],
   "source": [
    "get_cnot_count(circ=circuit_approx)"
   ],
   "metadata": {
    "collapsed": false,
    "ExecuteTime": {
     "end_time": "2023-07-31T22:13:11.767072800Z",
     "start_time": "2023-07-31T22:13:11.096653700Z"
    }
   }
  },
  {
   "cell_type": "code",
   "execution_count": 72,
   "outputs": [
    {
     "data": {
      "text/plain": "5042"
     },
     "execution_count": 72,
     "metadata": {},
     "output_type": "execute_result"
    }
   ],
   "source": [
    "get_cnot_count(circ=circuit_og)"
   ],
   "metadata": {
    "collapsed": false,
    "ExecuteTime": {
     "end_time": "2023-07-31T22:13:13.221009500Z",
     "start_time": "2023-07-31T22:13:11.768073300Z"
    }
   }
  },
  {
   "cell_type": "code",
   "execution_count": 73,
   "outputs": [
    {
     "data": {
      "text/plain": "<Figure size 640x480 with 1 Axes>",
      "image/png": "[encoded data removed]"
     },
     "metadata": {},
     "output_type": "display_data"
    }
   ],
   "source": [
    "# x = list(range(base_ctrl_qubits_mcx, base_ctrl_qubits_mcx+100,10))\n",
    "# cnot_approx_x_plot = [224, 2324, 4564, 6804, 9044, 11284, 13524, 15764, 18004, 20244]\n",
    "# cnot_original_x_plot = [226, 1226, 3026, 5626, 9026, 13226, 18226, 24026, 30626, 38026]\n",
    "eixo_x = list(range(base_ctrl_qubits_mcx, base_limit))\n",
    "# Plot the data as a line plot\n",
    "plt.plot(eixo_x, cnot_approx, label = \"Approx\")\n",
    "plt.plot(eixo_x, cnot_original, label = \"original\")\n",
    "# plt.plot(x, cnot_approx_x_plot, label = \"Approx\")\n",
    "# plt.plot(x, cnot_original_x_plot, label = \"Original\")\n",
    "\n",
    "# Add labels to the axes and a title to the graph\n",
    "plt.xlabel('Number of controls')\n",
    "plt.ylabel('CNOT Count')\n",
    "plt.title('CNOT count vs Number of controls (mcx)')\n",
    "\n",
    "# Display the graph\n",
    "plt.legend()\n",
    "plt.show()"
   ],
   "metadata": {
    "collapsed": false,
    "ExecuteTime": {
     "end_time": "2023-07-31T22:13:13.325666200Z",
     "start_time": "2023-07-31T22:13:13.221009500Z"
    }
   }
  },
  {
   "cell_type": "markdown",
   "source": [
    "## Comparação analítica"
   ],
   "metadata": {
    "collapsed": false
   }
  },
  {
   "cell_type": "code",
   "execution_count": 74,
   "outputs": [],
   "source": [
    "def custo_og(eta, m):\n",
    "    return 4*(eta+m)**2 -12*(eta+m)+10\n",
    "\n",
    "def custo_approx(eta,m):\n",
    "    return 4*(eta-2)**2+2*(eta-2)*(16*m-8)\n",
    "\n",
    "def custo_otimizado(eta, m):\n",
    "    return 4*(eta-2)**2 + 64*eta - 304 + 32*(eta + m)"
   ],
   "metadata": {
    "collapsed": false,
    "ExecuteTime": {
     "end_time": "2023-07-31T22:13:13.376102100Z",
     "start_time": "2023-07-31T22:13:13.326667500Z"
    }
   }
  },
  {
   "cell_type": "code",
   "execution_count": 81,
   "outputs": [
    {
     "data": {
      "text/plain": "<Figure size 640x480 with 1 Axes>",
      "image/png": "[encoded data removed]"
     },
     "metadata": {},
     "output_type": "display_data"
    }
   ],
   "source": [
    "# x = list(range(base_ctrl_qubits_mcx, base_ctrl_qubits_mcx+100,10))\n",
    "# cnot_approx_x_plot = [224, 2324, 4564, 6804, 9044, 11284, 13524, 15764, 18004, 20244]\n",
    "# cnot_original_x_plot = [226, 1226, 3026, 5626, 9026, 13226, 18226, 24026, 30626, 38026]\n",
    "eixo_x = list(range(base_ctrl_qubits_mcx, base_limit))\n",
    "n_base = base_ctrl_qubits_mcx\n",
    "analitico_otimizado_z_plot = [custo_otimizado(n_base, xi-n_base) for xi in eixo_x]\n",
    "# Plot the data as a line plot\n",
    "plt.plot(eixo_x, cnot_approx, 'darkorange',label = \"Approx\")\n",
    "plt.plot(eixo_x, cnot_original, 'b', label = \"original\")\n",
    "plt.plot(eixo_x, analitico_otimizado_z_plot, 'g', label = \"analitico otm\")\n",
    "# plt.plot(x, cnot_approx_x_plot, label = \"Approx\")\n",
    "# plt.plot(x, cnot_original_x_plot, label = \"Original\")\n",
    "\n",
    "plt.legend(\n",
    "    ('Approx', 'original', 'analitico otm'),\n",
    "    loc='upper left', shadow=False\n",
    ")\n",
    "\n",
    "# Add labels to the axes and a title to the graph\n",
    "plt.xlabel('Number of controls')\n",
    "plt.ylabel('CNOT Count')\n",
    "plt.title('CNOT count vs Number of controls (mcx)')\n",
    "plt.savefig('comparacao_analito_numerico.svg', dpi=600)\n",
    "# Display the graph\n",
    "plt.legend()\n",
    "plt.show()"
   ],
   "metadata": {
    "collapsed": false,
    "ExecuteTime": {
     "end_time": "2023-07-31T22:22:58.452257100Z",
     "start_time": "2023-07-31T22:22:58.295970200Z"
    }
   }
  },
  {
   "cell_type": "code",
   "execution_count": 76,
   "outputs": [
    {
     "name": "stdout",
     "output_type": "stream",
     "text": [
      "-720\n",
      "-708\n",
      "-520\n",
      "-332\n",
      "-12\n",
      "308\n",
      "244\n",
      "180\n",
      "180\n",
      "180\n",
      "180\n",
      "180\n",
      "180\n",
      "180\n",
      "180\n",
      "180\n",
      "180\n",
      "180\n",
      "180\n",
      "180\n",
      "180\n",
      "180\n",
      "180\n",
      "180\n",
      "180\n"
     ]
    }
   ],
   "source": [
    "for i,e in enumerate (cnot_approx):\n",
    "    print(e - analitico_otimizado_z_plot[i])"
   ],
   "metadata": {
    "collapsed": false,
    "ExecuteTime": {
     "end_time": "2023-07-31T22:13:13.466934400Z",
     "start_time": "2023-07-31T22:13:13.451330100Z"
    }
   }
  },
  {
   "cell_type": "code",
   "execution_count": 59,
   "outputs": [
    {
     "data": {
      "text/plain": "(25,)"
     },
     "execution_count": 59,
     "metadata": {},
     "output_type": "execute_result"
    }
   ],
   "source": [],
   "metadata": {
    "collapsed": false,
    "ExecuteTime": {
     "end_time": "2023-07-31T22:07:13.213817Z",
     "start_time": "2023-07-31T22:07:13.206501Z"
    }
   }
  },
  {
   "cell_type": "code",
   "execution_count": null,
   "outputs": [],
   "source": [],
   "metadata": {
    "collapsed": false
   }
  }
 ],
 "metadata": {
  "kernelspec": {
   "display_name": "Python 3",
   "language": "python",
   "name": "python3"
  },
  "language_info": {
   "codemirror_mode": {
    "name": "ipython",
    "version": 2
   },
   "file_extension": ".py",
   "mimetype": "text/x-python",
   "name": "python",
   "nbconvert_exporter": "python",
   "pygments_lexer": "ipython2",
   "version": "2.7.6"
  },
  "colab": {
   "provenance": []
  }
 },
 "nbformat": 4,
 "nbformat_minor": 0
}
